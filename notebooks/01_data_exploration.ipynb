{
 "cells": [
  {
   "cell_type": "code",
   "execution_count": 52,
   "id": "6b7b2d79",
   "metadata": {},
   "outputs": [
    {
     "name": "stderr",
     "output_type": "stream",
     "text": [
      "INFO:__main__:Notebook started.\n"
     ]
    }
   ],
   "source": [
    "import os\n",
    "import pandas as pd\n",
    "import numpy as np\n",
    "import matplotlib.pyplot as plt\n",
    "import seaborn as sns\n",
    "\n",
    "# Display settings\n",
    "from IPython.core.interactiveshell import InteractiveShell\n",
    "InteractiveShell.ast_node_interactivity = \"all\"\n",
    "pd.set_option('display.max_columns', 100)\n",
    "sns.set(style='whitegrid')\n",
    "\n",
    "# Define paths\n",
    "DATA_DIR = \"../data/raw\"\n",
    "PROCESSED_DIR = \"../data/processed\"\n",
    "\n",
    "# Logging\n",
    "import logging\n",
    "logging.basicConfig(level=logging.INFO)\n",
    "logger = logging.getLogger(__name__)\n",
    "logger.info(\"Notebook started.\")"
   ]
  },
  {
   "cell_type": "code",
   "execution_count": 53,
   "id": "69244c3b",
   "metadata": {},
   "outputs": [],
   "source": [
    "file_path_desc = os.path.join(DATA_DIR, \"call-report-data-2024-03/AcctDesc.txt\") "
   ]
  },
  {
   "cell_type": "code",
   "execution_count": 54,
   "id": "8653f1ea",
   "metadata": {},
   "outputs": [
    {
     "name": "stderr",
     "output_type": "stream",
     "text": [
      "INFO:__main__:Loaded dataset with shape (3377, 12)\n"
     ]
    }
   ],
   "source": [
    "try:\n",
    "    acct_description = pd.read_csv(file_path_desc)\n",
    "    logger.info(f\"Loaded dataset with shape {acct_description.shape}\")\n",
    "except Exception as e:\n",
    "    logger.error(f\"Failed to load file: {e}\")"
   ]
  },
  {
   "cell_type": "code",
   "execution_count": 55,
   "id": "296b4a2d",
   "metadata": {},
   "outputs": [
    {
     "data": {
      "text/html": [
       "<div>\n",
       "<style scoped>\n",
       "    .dataframe tbody tr th:only-of-type {\n",
       "        vertical-align: middle;\n",
       "    }\n",
       "\n",
       "    .dataframe tbody tr th {\n",
       "        vertical-align: top;\n",
       "    }\n",
       "\n",
       "    .dataframe thead th {\n",
       "        text-align: right;\n",
       "    }\n",
       "</style>\n",
       "<table border=\"1\" class=\"dataframe\">\n",
       "  <thead>\n",
       "    <tr style=\"text-align: right;\">\n",
       "      <th></th>\n",
       "      <th>Account</th>\n",
       "      <th>AcctName</th>\n",
       "      <th>AcctDesc</th>\n",
       "      <th>TableName</th>\n",
       "      <th>Annualize</th>\n",
       "      <th>CBSAccount</th>\n",
       "      <th>FPRAccount</th>\n",
       "      <th>STATAcctMain</th>\n",
       "      <th>STATAcctState</th>\n",
       "      <th>STATAcctGraph</th>\n",
       "      <th>STATAcctTable8</th>\n",
       "      <th>STATUS</th>\n",
       "    </tr>\n",
       "  </thead>\n",
       "  <tbody>\n",
       "    <tr>\n",
       "      <th>0</th>\n",
       "      <td>Acct_001</td>\n",
       "      <td>Amount - Total Other Loans (Purchased or to no...</td>\n",
       "      <td>Include the dollar amount of outstanding loans...</td>\n",
       "      <td>FS220A</td>\n",
       "      <td>False</td>\n",
       "      <td>True</td>\n",
       "      <td>True</td>\n",
       "      <td>True</td>\n",
       "      <td>True</td>\n",
       "      <td>False</td>\n",
       "      <td>False</td>\n",
       "      <td>Inactive</td>\n",
       "    </tr>\n",
       "    <tr>\n",
       "      <th>1</th>\n",
       "      <td>Acct_002</td>\n",
       "      <td>Amount of Leases Receivable</td>\n",
       "      <td>Leases Receivable. Include the rate, number, a...</td>\n",
       "      <td>FS220A</td>\n",
       "      <td>False</td>\n",
       "      <td>False</td>\n",
       "      <td>False</td>\n",
       "      <td>False</td>\n",
       "      <td>False</td>\n",
       "      <td>False</td>\n",
       "      <td>False</td>\n",
       "      <td>Active</td>\n",
       "    </tr>\n",
       "    <tr>\n",
       "      <th>2</th>\n",
       "      <td>Acct_003</td>\n",
       "      <td>Loans Held for Sale</td>\n",
       "      <td>Loans Held for Sale. Report the amount of outs...</td>\n",
       "      <td>FS220C</td>\n",
       "      <td>False</td>\n",
       "      <td>False</td>\n",
       "      <td>False</td>\n",
       "      <td>False</td>\n",
       "      <td>False</td>\n",
       "      <td>False</td>\n",
       "      <td>False</td>\n",
       "      <td>Active</td>\n",
       "    </tr>\n",
       "    <tr>\n",
       "      <th>3</th>\n",
       "      <td>Acct_007</td>\n",
       "      <td>Land and Building</td>\n",
       "      <td>Land and building, less depreciation on buildi...</td>\n",
       "      <td>FS220</td>\n",
       "      <td>False</td>\n",
       "      <td>True</td>\n",
       "      <td>True</td>\n",
       "      <td>True</td>\n",
       "      <td>True</td>\n",
       "      <td>False</td>\n",
       "      <td>True</td>\n",
       "      <td>Active</td>\n",
       "    </tr>\n",
       "    <tr>\n",
       "      <th>4</th>\n",
       "      <td>Acct_008</td>\n",
       "      <td>Other Fixed Assets</td>\n",
       "      <td>All other fixed assets such as furniture and f...</td>\n",
       "      <td>FS220</td>\n",
       "      <td>False</td>\n",
       "      <td>True</td>\n",
       "      <td>True</td>\n",
       "      <td>True</td>\n",
       "      <td>True</td>\n",
       "      <td>False</td>\n",
       "      <td>True</td>\n",
       "      <td>Active</td>\n",
       "    </tr>\n",
       "  </tbody>\n",
       "</table>\n",
       "</div>"
      ],
      "text/plain": [
       "    Account                                           AcctName  \\\n",
       "0  Acct_001  Amount - Total Other Loans (Purchased or to no...   \n",
       "1  Acct_002                        Amount of Leases Receivable   \n",
       "2  Acct_003                                Loans Held for Sale   \n",
       "3  Acct_007                                  Land and Building   \n",
       "4  Acct_008                                 Other Fixed Assets   \n",
       "\n",
       "                                            AcctDesc TableName  Annualize  \\\n",
       "0  Include the dollar amount of outstanding loans...    FS220A      False   \n",
       "1  Leases Receivable. Include the rate, number, a...    FS220A      False   \n",
       "2  Loans Held for Sale. Report the amount of outs...    FS220C      False   \n",
       "3  Land and building, less depreciation on buildi...     FS220      False   \n",
       "4  All other fixed assets such as furniture and f...     FS220      False   \n",
       "\n",
       "   CBSAccount  FPRAccount  STATAcctMain  STATAcctState  STATAcctGraph  \\\n",
       "0        True        True          True           True          False   \n",
       "1       False       False         False          False          False   \n",
       "2       False       False         False          False          False   \n",
       "3        True        True          True           True          False   \n",
       "4        True        True          True           True          False   \n",
       "\n",
       "   STATAcctTable8    STATUS  \n",
       "0           False  Inactive  \n",
       "1           False    Active  \n",
       "2           False    Active  \n",
       "3            True    Active  \n",
       "4            True    Active  "
      ]
     },
     "execution_count": 55,
     "metadata": {},
     "output_type": "execute_result"
    },
    {
     "data": {
      "text/plain": [
       "Index(['Account', 'AcctName', 'AcctDesc', 'TableName', 'Annualize',\n",
       "       'CBSAccount', 'FPRAccount', 'STATAcctMain', 'STATAcctState',\n",
       "       'STATAcctGraph', 'STATAcctTable8', 'STATUS'],\n",
       "      dtype='object')"
      ]
     },
     "execution_count": 55,
     "metadata": {},
     "output_type": "execute_result"
    }
   ],
   "source": [
    "acct_description.head()\n",
    "acct_description.columns"
   ]
  },
  {
   "cell_type": "markdown",
   "id": "2ab69353",
   "metadata": {},
   "source": [
    "### Column Name\tMeaning\n",
    "\n",
    "**CBSAccount**\tIndicates whether the account is used in the Call Report system (CBS) — the core regulatory report that credit unions submit to the NCUA. Usually True/False.\n",
    "\n",
    "**FPRAccount**\tFlags whether this account is included in the Financial Performance Report (FPR), which summarizes key performance indicators.\n",
    "\n",
    "**STATAcctMain**\tTrue if the account is used in the main statistical report by the NCUA or analysts. Typically part of core metrics used for national trends.\n",
    "\n",
    "**STATAcctState**\tTrue if the account is used for state-level summaries or reports.\n",
    "\n",
    "**STATAcctGraph**\tTrue if the account is used in visualizations/graphs in published reports (like NCUA's quarterly charts).\n",
    "\n",
    "**STATAcctTable8**\tTrue if the account appears in Table 8 of NCUA’s standard reporting tables (one of the summary tables presented each quarter)."
   ]
  },
  {
   "cell_type": "code",
   "execution_count": 56,
   "id": "8d67bf52",
   "metadata": {},
   "outputs": [],
   "source": [
    "acct_map = acct_description.set_index('Account')['AcctName'].dropna().to_dict()"
   ]
  },
  {
   "cell_type": "code",
   "execution_count": 57,
   "id": "d7d70413",
   "metadata": {},
   "outputs": [],
   "source": [
    "#acct_map"
   ]
  },
  {
   "cell_type": "code",
   "execution_count": 58,
   "id": "dfe8e8b5",
   "metadata": {},
   "outputs": [],
   "source": [
    "\n",
    "def load_fs220_files(data_dir: str, subfolder: str, base_name: str = \"FS220\", suffixes: list = None) -> dict:\n",
    "    \"\"\"\n",
    "    Loads a set of FS220-related.txt files into a dictionary of DataFrames with logging and encoding fallback.\n",
    "\n",
    "    Parameters:\n",
    "    - data_dir (str): Base directory path containing the data folder.\n",
    "    - subfolder (str): Subdirectory name where the text files are located.\n",
    "    - base_name (str): Common prefix of the files, default is 'FS220'.\n",
    "    - suffixes (list): List of suffixes to load (e.g., [\"\", \"A\", \"B\", ...])\n",
    "\n",
    "    Returns:\n",
    "    - dict: Dictionary with keys as variable names and values as pandas DataFrames\n",
    "    \"\"\"\n",
    "\n",
    "    # Setup log file\n",
    "    os.makedirs(\"logs\", exist_ok=True)\n",
    "    logging.basicConfig(\n",
    "        filename=\"logs/data_load.log\",\n",
    "        filemode=\"a\",  # Append mode for multiple call multiple \n",
    "        level=logging.INFO,\n",
    "        format=\"%(asctime)s - %(levelname)s - %(message)s\"\n",
    "    )\n",
    "\n",
    "    file_path = os.path.join(data_dir, subfolder)\n",
    "    suffixes = suffixes if suffixes is not None else [\"\"]\n",
    "\n",
    "    dataframes = {}\n",
    "\n",
    "    for suffix in suffixes:\n",
    "        filename = f\"{base_name}{suffix}.txt\" if suffix else f\"{base_name}.txt\"\n",
    "        full_path = os.path.join(file_path, filename)\n",
    "        df_name = f\"{base_name.lower()}_{suffix.lower()}\" if suffix else base_name.lower()\n",
    "\n",
    "        try:\n",
    "            df = pd.read_csv(full_path, encoding=\"utf-8\")\n",
    "            logging.info(f\"Loaded: {filename} with UTF-8 → variable '{df_name}' with shape {df.shape}\")\n",
    "        except UnicodeDecodeError:\n",
    "            try:\n",
    "                df = pd.read_csv(full_path, encoding=\"latin1\")\n",
    "                logging.info(f\"Loaded: {filename} with Latin-1 → variable '{df_name}' with shape {df.shape}\")\n",
    "            except Exception as e:\n",
    "                logging.error(f\"Encoding error loading {filename}: {e}\")\n",
    "                continue\n",
    "        except FileNotFoundError:\n",
    "            logging.warning(f\"File not found: {filename}\")\n",
    "            continue\n",
    "        except Exception as e:\n",
    "            logging.error(f\"General error loading {filename}: {e}\")\n",
    "            continue\n",
    "\n",
    "        dataframes[df_name] = df\n",
    "                                        \n",
    "    return dataframes                                        "
   ]
  },
  {
   "cell_type": "code",
   "execution_count": 59,
   "id": "10b9e6c9",
   "metadata": {},
   "outputs": [
    {
     "name": "stderr",
     "output_type": "stream",
     "text": [
      "INFO:root:Loaded: FS220.txt with UTF-8 → variable 'fs220' with shape (4670, 246)\n",
      "INFO:root:Loaded: FS220A.txt with UTF-8 → variable 'fs220_a' with shape (4670, 249)\n",
      "INFO:root:Loaded: FS220B.txt with UTF-8 → variable 'fs220_b' with shape (4670, 250)\n",
      "INFO:root:Loaded: FS220C.txt with UTF-8 → variable 'fs220_c' with shape (4670, 250)\n",
      "INFO:root:Loaded: FS220D.txt with Latin-1 → variable 'fs220_d' with shape (4670, 230)\n",
      "INFO:root:Loaded: FS220G.txt with UTF-8 → variable 'fs220_g' with shape (4670, 252)\n",
      "INFO:root:Loaded: FS220H.txt with UTF-8 → variable 'fs220_h' with shape (4670, 249)\n",
      "INFO:root:Loaded: FS220I.txt with UTF-8 → variable 'fs220_i' with shape (4670, 251)\n",
      "INFO:root:Loaded: FS220J.txt with UTF-8 → variable 'fs220_j' with shape (4670, 255)\n",
      "INFO:root:Loaded: FS220K.txt with UTF-8 → variable 'fs220_k' with shape (4670, 148)\n",
      "INFO:root:Loaded: FS220L.txt with UTF-8 → variable 'fs220_l' with shape (4670, 243)\n",
      "INFO:root:Loaded: FS220M.txt with UTF-8 → variable 'fs220_m' with shape (4670, 70)\n",
      "INFO:root:Loaded: FS220N.txt with UTF-8 → variable 'fs220_n' with shape (4670, 81)\n",
      "INFO:root:Loaded: FS220P.txt with UTF-8 → variable 'fs220_p' with shape (4670, 193)\n",
      "INFO:root:Loaded: FS220Q.txt with UTF-8 → variable 'fs220_q' with shape (4670, 203)\n",
      "INFO:root:Loaded: FS220R.txt with UTF-8 → variable 'fs220_r' with shape (4670, 231)\n",
      "INFO:root:Loaded: FS220S.txt with UTF-8 → variable 'fs220_s' with shape (4670, 30)\n"
     ]
    }
   ],
   "source": [
    "SUBFOLDER = \"call-report-data-2024-03\"\n",
    "SUFFIXES = [\"\", \"A\", \"B\", \"C\", \"D\", \"G\", \"H\", \"I\", \"J\", \"K\", \"L\", \"M\", \"N\", \"P\", \"Q\", \"R\", \"S\"]\n",
    "\n",
    "fs220_dataframes = load_fs220_files(DATA_DIR, SUBFOLDER, base_name=\"FS220\", suffixes=SUFFIXES)"
   ]
  },
  {
   "cell_type": "code",
   "execution_count": 62,
   "id": "2a3a4de6",
   "metadata": {},
   "outputs": [],
   "source": [
    "fs220= fs220_dataframes['fs220']"
   ]
  },
  {
   "cell_type": "code",
   "execution_count": null,
   "id": "c9c5e27d",
   "metadata": {},
   "outputs": [],
   "source": []
  }
 ],
 "metadata": {
  "kernelspec": {
   "display_name": "Python 3 (ipykernel)",
   "language": "python",
   "name": "python3"
  },
  "language_info": {
   "codemirror_mode": {
    "name": "ipython",
    "version": 3
   },
   "file_extension": ".py",
   "mimetype": "text/x-python",
   "name": "python",
   "nbconvert_exporter": "python",
   "pygments_lexer": "ipython3",
   "version": "3.10.9"
  }
 },
 "nbformat": 4,
 "nbformat_minor": 5
}
